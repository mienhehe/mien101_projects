{
 "cells": [
  {
   "cell_type": "code",
   "execution_count": 1,
   "id": "61b0c741",
   "metadata": {},
   "outputs": [
    {
     "data": {
      "text/html": [
       "<div>\n",
       "<style scoped>\n",
       "    .dataframe tbody tr th:only-of-type {\n",
       "        vertical-align: middle;\n",
       "    }\n",
       "\n",
       "    .dataframe tbody tr th {\n",
       "        vertical-align: top;\n",
       "    }\n",
       "\n",
       "    .dataframe thead th {\n",
       "        text-align: right;\n",
       "    }\n",
       "</style>\n",
       "<table border=\"1\" class=\"dataframe\">\n",
       "  <thead>\n",
       "    <tr style=\"text-align: right;\">\n",
       "      <th></th>\n",
       "      <th>Year</th>\n",
       "      <th>Country</th>\n",
       "      <th>SP</th>\n",
       "      <th>Total_weight</th>\n",
       "      <th>Grownth_GDP</th>\n",
       "      <th>Inflation_rate</th>\n",
       "      <th>GDP_per_capital</th>\n",
       "      <th>Fiscal_Balance</th>\n",
       "      <th>Government_debt</th>\n",
       "      <th>Current_account_balance</th>\n",
       "      <th>Government_Effectiveness</th>\n",
       "      <th>Control_of_curruption</th>\n",
       "    </tr>\n",
       "  </thead>\n",
       "  <tbody>\n",
       "    <tr>\n",
       "      <th>0</th>\n",
       "      <td>2006</td>\n",
       "      <td>CHN</td>\n",
       "      <td>1</td>\n",
       "      <td>0.953172</td>\n",
       "      <td>10.713288</td>\n",
       "      <td>1.649431</td>\n",
       "      <td>2099.229435</td>\n",
       "      <td>-0.76</td>\n",
       "      <td>25.38</td>\n",
       "      <td>8.424126</td>\n",
       "      <td>0.070475</td>\n",
       "      <td>-0.514581</td>\n",
       "    </tr>\n",
       "    <tr>\n",
       "      <th>1</th>\n",
       "      <td>2006</td>\n",
       "      <td>GBR</td>\n",
       "      <td>1</td>\n",
       "      <td>0.953172</td>\n",
       "      <td>2.584105</td>\n",
       "      <td>2.455662</td>\n",
       "      <td>44472.574235</td>\n",
       "      <td>-2.57</td>\n",
       "      <td>39.95</td>\n",
       "      <td>-2.814397</td>\n",
       "      <td>1.670994</td>\n",
       "      <td>1.792327</td>\n",
       "    </tr>\n",
       "    <tr>\n",
       "      <th>2</th>\n",
       "      <td>2006</td>\n",
       "      <td>BRA</td>\n",
       "      <td>0</td>\n",
       "      <td>0.247159</td>\n",
       "      <td>3.961989</td>\n",
       "      <td>4.183568</td>\n",
       "      <td>5886.463682</td>\n",
       "      <td>-3.57</td>\n",
       "      <td>55.48</td>\n",
       "      <td>1.181714</td>\n",
       "      <td>-0.320333</td>\n",
       "      <td>-0.109042</td>\n",
       "    </tr>\n",
       "    <tr>\n",
       "      <th>3</th>\n",
       "      <td>2006</td>\n",
       "      <td>RUS</td>\n",
       "      <td>1</td>\n",
       "      <td>0.861370</td>\n",
       "      <td>8.200068</td>\n",
       "      <td>9.668655</td>\n",
       "      <td>6920.189125</td>\n",
       "      <td>6.29</td>\n",
       "      <td>9.79</td>\n",
       "      <td>9.325459</td>\n",
       "      <td>-0.438045</td>\n",
       "      <td>-0.910895</td>\n",
       "    </tr>\n",
       "    <tr>\n",
       "      <th>4</th>\n",
       "      <td>2006</td>\n",
       "      <td>FRA</td>\n",
       "      <td>1</td>\n",
       "      <td>0.953172</td>\n",
       "      <td>2.449324</td>\n",
       "      <td>1.675124</td>\n",
       "      <td>36443.626306</td>\n",
       "      <td>-2.40</td>\n",
       "      <td>64.60</td>\n",
       "      <td>0.022183</td>\n",
       "      <td>1.632802</td>\n",
       "      <td>1.463727</td>\n",
       "    </tr>\n",
       "    <tr>\n",
       "      <th>5</th>\n",
       "      <td>2006</td>\n",
       "      <td>DEU</td>\n",
       "      <td>1</td>\n",
       "      <td>0.953172</td>\n",
       "      <td>3.816442</td>\n",
       "      <td>1.577428</td>\n",
       "      <td>36323.447742</td>\n",
       "      <td>-1.65</td>\n",
       "      <td>66.90</td>\n",
       "      <td>5.797964</td>\n",
       "      <td>1.650243</td>\n",
       "      <td>1.803052</td>\n",
       "    </tr>\n",
       "    <tr>\n",
       "      <th>6</th>\n",
       "      <td>2006</td>\n",
       "      <td>TUR</td>\n",
       "      <td>0</td>\n",
       "      <td>0.544827</td>\n",
       "      <td>6.947988</td>\n",
       "      <td>9.597242</td>\n",
       "      <td>8101.856924</td>\n",
       "      <td>1.76</td>\n",
       "      <td>44.26</td>\n",
       "      <td>-5.593854</td>\n",
       "      <td>0.120086</td>\n",
       "      <td>0.027346</td>\n",
       "    </tr>\n",
       "    <tr>\n",
       "      <th>7</th>\n",
       "      <td>2006</td>\n",
       "      <td>AUS</td>\n",
       "      <td>1</td>\n",
       "      <td>0.541896</td>\n",
       "      <td>2.726893</td>\n",
       "      <td>3.555288</td>\n",
       "      <td>36044.922811</td>\n",
       "      <td>1.78</td>\n",
       "      <td>9.97</td>\n",
       "      <td>-6.062233</td>\n",
       "      <td>1.711956</td>\n",
       "      <td>1.960568</td>\n",
       "    </tr>\n",
       "    <tr>\n",
       "      <th>8</th>\n",
       "      <td>2006</td>\n",
       "      <td>GRC</td>\n",
       "      <td>1</td>\n",
       "      <td>0.399212</td>\n",
       "      <td>5.652434</td>\n",
       "      <td>3.195944</td>\n",
       "      <td>24801.157784</td>\n",
       "      <td>-5.90</td>\n",
       "      <td>103.60</td>\n",
       "      <td>-10.821246</td>\n",
       "      <td>0.636948</td>\n",
       "      <td>0.363786</td>\n",
       "    </tr>\n",
       "    <tr>\n",
       "      <th>9</th>\n",
       "      <td>2006</td>\n",
       "      <td>HRV</td>\n",
       "      <td>1</td>\n",
       "      <td>0.156196</td>\n",
       "      <td>4.938357</td>\n",
       "      <td>3.189826</td>\n",
       "      <td>11695.944664</td>\n",
       "      <td>-3.10</td>\n",
       "      <td>38.80</td>\n",
       "      <td>-7.686457</td>\n",
       "      <td>0.571395</td>\n",
       "      <td>0.078597</td>\n",
       "    </tr>\n",
       "  </tbody>\n",
       "</table>\n",
       "</div>"
      ],
      "text/plain": [
       "   Year Country  SP  Total_weight  Grownth_GDP  Inflation_rate  \\\n",
       "0  2006     CHN   1      0.953172    10.713288        1.649431   \n",
       "1  2006     GBR   1      0.953172     2.584105        2.455662   \n",
       "2  2006     BRA   0      0.247159     3.961989        4.183568   \n",
       "3  2006     RUS   1      0.861370     8.200068        9.668655   \n",
       "4  2006     FRA   1      0.953172     2.449324        1.675124   \n",
       "5  2006     DEU   1      0.953172     3.816442        1.577428   \n",
       "6  2006     TUR   0      0.544827     6.947988        9.597242   \n",
       "7  2006     AUS   1      0.541896     2.726893        3.555288   \n",
       "8  2006     GRC   1      0.399212     5.652434        3.195944   \n",
       "9  2006     HRV   1      0.156196     4.938357        3.189826   \n",
       "\n",
       "   GDP_per_capital  Fiscal_Balance  Government_debt  Current_account_balance  \\\n",
       "0      2099.229435           -0.76            25.38                 8.424126   \n",
       "1     44472.574235           -2.57            39.95                -2.814397   \n",
       "2      5886.463682           -3.57            55.48                 1.181714   \n",
       "3      6920.189125            6.29             9.79                 9.325459   \n",
       "4     36443.626306           -2.40            64.60                 0.022183   \n",
       "5     36323.447742           -1.65            66.90                 5.797964   \n",
       "6      8101.856924            1.76            44.26                -5.593854   \n",
       "7     36044.922811            1.78             9.97                -6.062233   \n",
       "8     24801.157784           -5.90           103.60               -10.821246   \n",
       "9     11695.944664           -3.10            38.80                -7.686457   \n",
       "\n",
       "   Government_Effectiveness  Control_of_curruption  \n",
       "0                  0.070475              -0.514581  \n",
       "1                  1.670994               1.792327  \n",
       "2                 -0.320333              -0.109042  \n",
       "3                 -0.438045              -0.910895  \n",
       "4                  1.632802               1.463727  \n",
       "5                  1.650243               1.803052  \n",
       "6                  0.120086               0.027346  \n",
       "7                  1.711956               1.960568  \n",
       "8                  0.636948               0.363786  \n",
       "9                  0.571395               0.078597  "
      ]
     },
     "execution_count": 1,
     "metadata": {},
     "output_type": "execute_result"
    }
   ],
   "source": [
    "import pandas as pd\n",
    "import numpy as np\n",
    "import statsmodels.api as sm\n",
    "import scipy.stats as st\n",
    "import matplotlib.pyplot as plt\n",
    "import seaborn as sns\n",
    "\n",
    "import matplotlib.mlab as mlab\n",
    "%matplotlib inline\n",
    "pd.set_option('display.max_columns', None)\n",
    "df = pd.read_excel('./yeyeye.xlsx')\n",
    "df.head(10)"
   ]
  },
  {
   "cell_type": "code",
   "execution_count": 2,
   "id": "455deff2",
   "metadata": {},
   "outputs": [
    {
     "data": {
      "text/plain": [
       "Index(['Country', 'SP', 'Total_weight', 'Grownth_GDP', 'Inflation_rate',\n",
       "       'GDP_per_capital', 'Fiscal_Balance', 'Government_debt',\n",
       "       'Current_account_balance', 'Government_Effectiveness',\n",
       "       'Control_of_curruption'],\n",
       "      dtype='object')"
      ]
     },
     "execution_count": 2,
     "metadata": {},
     "output_type": "execute_result"
    }
   ],
   "source": [
    "df.drop('Year', axis = 1, inplace = True)\n",
    "df.columns"
   ]
  },
  {
   "cell_type": "code",
   "execution_count": 3,
   "id": "d7e028f8",
   "metadata": {},
   "outputs": [
    {
     "data": {
      "text/plain": [
       "Index(['SP', 'Total_weight', 'Grownth_GDP', 'Inflation_rate',\n",
       "       'GDP_per_capital', 'Fiscal_Balance', 'Government_debt',\n",
       "       'Current_account_balance', 'Government_Effectiveness',\n",
       "       'Control_of_curruption'],\n",
       "      dtype='object')"
      ]
     },
     "execution_count": 3,
     "metadata": {},
     "output_type": "execute_result"
    }
   ],
   "source": [
    "df.drop('Country', axis = 1, inplace = True)\n",
    "df.columns"
   ]
  },
  {
   "cell_type": "code",
   "execution_count": 4,
   "id": "8cea12fd",
   "metadata": {},
   "outputs": [],
   "source": [
    "df = pd.get_dummies(df)"
   ]
  },
  {
   "cell_type": "code",
   "execution_count": 5,
   "id": "a7c3efe8",
   "metadata": {},
   "outputs": [
    {
     "data": {
      "text/plain": [
       "(1068, 9)"
      ]
     },
     "execution_count": 5,
     "metadata": {},
     "output_type": "execute_result"
    }
   ],
   "source": [
    "X = df.drop(columns='SP')\n",
    "\n",
    "y= df[\"SP\"]\n",
    "from sklearn.linear_model import LogisticRegression\n",
    "from sklearn.model_selection import train_test_split\n",
    "X_train,X_test,y_train,y_test = train_test_split(X,y,test_size=0.2,random_state=10000 )\n",
    "X_train.shape"
   ]
  },
  {
   "cell_type": "code",
   "execution_count": 6,
   "id": "b9bf4643",
   "metadata": {},
   "outputs": [
    {
     "name": "stderr",
     "output_type": "stream",
     "text": [
      "C:\\Users\\Admin\\uu\\lib\\site-packages\\sklearn\\linear_model\\_logistic.py:814: ConvergenceWarning: lbfgs failed to converge (status=1):\n",
      "STOP: TOTAL NO. of ITERATIONS REACHED LIMIT.\n",
      "\n",
      "Increase the number of iterations (max_iter) or scale the data as shown in:\n",
      "    https://scikit-learn.org/stable/modules/preprocessing.html\n",
      "Please also refer to the documentation for alternative solver options:\n",
      "    https://scikit-learn.org/stable/modules/linear_model.html#logistic-regression\n",
      "  n_iter_i = _check_optimize_result(\n"
     ]
    },
    {
     "data": {
      "text/plain": [
       "LogisticRegression()"
      ]
     },
     "execution_count": 6,
     "metadata": {},
     "output_type": "execute_result"
    }
   ],
   "source": [
    "model =LogisticRegression()\n",
    "model.fit(X_train,y_train)"
   ]
  },
  {
   "cell_type": "code",
   "execution_count": 8,
   "id": "1189d54b",
   "metadata": {},
   "outputs": [
    {
     "data": {
      "text/plain": [
       "(array([0, 1, 2, 3, 4, 5, 6, 7, 8]),\n",
       " [Text(0, 0, 'Government_Effectiveness'),\n",
       "  Text(1, 0, 'Control_of_curruption'),\n",
       "  Text(2, 0, 'Total_weight'),\n",
       "  Text(3, 0, 'Grownth_GDP'),\n",
       "  Text(4, 0, 'Current_account_balance'),\n",
       "  Text(5, 0, 'GDP_per_capital'),\n",
       "  Text(6, 0, 'Government_debt'),\n",
       "  Text(7, 0, 'Inflation_rate'),\n",
       "  Text(8, 0, 'Fiscal_Balance')])"
      ]
     },
     "execution_count": 8,
     "metadata": {},
     "output_type": "execute_result"
    },
    {
     "data": {
      "image/png": "[encoded data removed]",
      "text/plain": [
       "<Figure size 1080x576 with 1 Axes>"
      ]
     },
     "metadata": {
      "needs_background": "light"
     },
     "output_type": "display_data"
    }
   ],
   "source": [
    "importances = pd.concat([\n",
    "pd.DataFrame(X_train.columns, columns = ['variables']),\n",
    "pd.DataFrame(np.transpose(model.coef_), \n",
    "columns = [\"Logistic Regression Feature Important\"])],axis = 1)\n",
    "featImport = importances.sort_values(\"Logistic Regression Feature Important\", ascending = False)\n",
    "fig = plt.figure(figsize=(15, 8))\n",
    "t = sns.barplot(x=featImport.iloc[:,0], y=featImport.iloc[:,1])\n",
    "plt.xticks(rotation=90)"
   ]
  },
  {
   "cell_type": "code",
   "execution_count": null,
   "id": "86199c12",
   "metadata": {},
   "outputs": [],
   "source": []
  }
 ],
 "metadata": {
  "kernelspec": {
   "display_name": "Python 3",
   "language": "python",
   "name": "python3"
  },
  "language_info": {
   "codemirror_mode": {
    "name": "ipython",
    "version": 3
   },
   "file_extension": ".py",
   "mimetype": "text/x-python",
   "name": "python",
   "nbconvert_exporter": "python",
   "pygments_lexer": "ipython3",
   "version": "3.8.8"
  }
 },
 "nbformat": 4,
 "nbformat_minor": 5
}
