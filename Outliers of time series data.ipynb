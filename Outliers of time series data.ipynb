{
 "cells": [
  {
   "cell_type": "code",
   "execution_count": 10,
   "id": "701cedd0",
   "metadata": {},
   "outputs": [
    {
     "data": {
      "text/html": [
       "<div>\n",
       "<style scoped>\n",
       "    .dataframe tbody tr th:only-of-type {\n",
       "        vertical-align: middle;\n",
       "    }\n",
       "\n",
       "    .dataframe tbody tr th {\n",
       "        vertical-align: top;\n",
       "    }\n",
       "\n",
       "    .dataframe thead th {\n",
       "        text-align: right;\n",
       "    }\n",
       "</style>\n",
       "<table border=\"1\" class=\"dataframe\">\n",
       "  <thead>\n",
       "    <tr style=\"text-align: right;\">\n",
       "      <th></th>\n",
       "      <th>Date</th>\n",
       "      <th>BID</th>\n",
       "      <th>GDP</th>\n",
       "      <th>Close</th>\n",
       "      <th>Inflation</th>\n",
       "    </tr>\n",
       "  </thead>\n",
       "  <tbody>\n",
       "    <tr>\n",
       "      <th>0</th>\n",
       "      <td>1/1/2000</td>\n",
       "      <td>8775833333</td>\n",
       "      <td>476636</td>\n",
       "      <td>16078025</td>\n",
       "      <td>4.02</td>\n",
       "    </tr>\n",
       "    <tr>\n",
       "      <th>1</th>\n",
       "      <td>2/1/2000</td>\n",
       "      <td>891125</td>\n",
       "      <td>476636</td>\n",
       "      <td>1686578571</td>\n",
       "      <td>4.02</td>\n",
       "    </tr>\n",
       "    <tr>\n",
       "      <th>2</th>\n",
       "      <td>3/1/2000</td>\n",
       "      <td>9499166667</td>\n",
       "      <td>476636</td>\n",
       "      <td>1605657143</td>\n",
       "      <td>4.02</td>\n",
       "    </tr>\n",
       "    <tr>\n",
       "      <th>3</th>\n",
       "      <td>4/1/2000</td>\n",
       "      <td>8076315789</td>\n",
       "      <td>476636</td>\n",
       "      <td>1469030556</td>\n",
       "      <td>4.02</td>\n",
       "    </tr>\n",
       "    <tr>\n",
       "      <th>4</th>\n",
       "      <td>5/1/2000</td>\n",
       "      <td>8154166667</td>\n",
       "      <td>476636</td>\n",
       "      <td>1312652273</td>\n",
       "      <td>4.02</td>\n",
       "    </tr>\n",
       "  </tbody>\n",
       "</table>\n",
       "</div>"
      ],
      "text/plain": [
       "       Date         BID     GDP       Close  Inflation\n",
       "0  1/1/2000  8775833333  476636    16078025       4.02\n",
       "1  2/1/2000      891125  476636  1686578571       4.02\n",
       "2  3/1/2000  9499166667  476636  1605657143       4.02\n",
       "3  4/1/2000  8076315789  476636  1469030556       4.02\n",
       "4  5/1/2000  8154166667  476636  1312652273       4.02"
      ]
     },
     "execution_count": 10,
     "metadata": {},
     "output_type": "execute_result"
    }
   ],
   "source": [
    "import numpy as np\n",
    "import pandas as pd\n",
    "import matplotlib.pyplot as plt\n",
    "%matplotlib inline\n",
    "import seaborn as sns\n",
    "df = pd.read_csv('./monthly.csv')\n",
    "df.head()"
   ]
  },
  {
   "cell_type": "code",
   "execution_count": 11,
   "id": "60abb8cd",
   "metadata": {},
   "outputs": [
    {
     "data": {
      "text/plain": [
       "Index(['BID', 'GDP', 'Close', 'Inflation'], dtype='object')"
      ]
     },
     "execution_count": 11,
     "metadata": {},
     "output_type": "execute_result"
    }
   ],
   "source": [
    "df = df.drop(['Date'], axis=1)\n",
    "df.columns"
   ]
  },
  {
   "cell_type": "code",
   "execution_count": 12,
   "id": "16ce31a2",
   "metadata": {},
   "outputs": [
    {
     "data": {
      "text/html": [
       "<div>\n",
       "<style scoped>\n",
       "    .dataframe tbody tr th:only-of-type {\n",
       "        vertical-align: middle;\n",
       "    }\n",
       "\n",
       "    .dataframe tbody tr th {\n",
       "        vertical-align: top;\n",
       "    }\n",
       "\n",
       "    .dataframe thead th {\n",
       "        text-align: right;\n",
       "    }\n",
       "</style>\n",
       "<table border=\"1\" class=\"dataframe\">\n",
       "  <thead>\n",
       "    <tr style=\"text-align: right;\">\n",
       "      <th></th>\n",
       "      <th>BID</th>\n",
       "      <th>GDP</th>\n",
       "      <th>Close</th>\n",
       "      <th>Inflation</th>\n",
       "    </tr>\n",
       "  </thead>\n",
       "  <tbody>\n",
       "    <tr>\n",
       "      <th>count</th>\n",
       "      <td>1.870000e+02</td>\n",
       "      <td>1.870000e+02</td>\n",
       "      <td>1.870000e+02</td>\n",
       "      <td>187.000000</td>\n",
       "    </tr>\n",
       "    <tr>\n",
       "      <th>mean</th>\n",
       "      <td>4.571109e+09</td>\n",
       "      <td>1.048567e+06</td>\n",
       "      <td>2.648335e+09</td>\n",
       "      <td>6.831925</td>\n",
       "    </tr>\n",
       "    <tr>\n",
       "      <th>std</th>\n",
       "      <td>3.693440e+09</td>\n",
       "      <td>6.765439e+05</td>\n",
       "      <td>2.714684e+09</td>\n",
       "      <td>2.823134</td>\n",
       "    </tr>\n",
       "    <tr>\n",
       "      <th>min</th>\n",
       "      <td>7.300000e+01</td>\n",
       "      <td>1.238700e+04</td>\n",
       "      <td>9.776000e+03</td>\n",
       "      <td>3.770000</td>\n",
       "    </tr>\n",
       "    <tr>\n",
       "      <th>25%</th>\n",
       "      <td>8.435450e+04</td>\n",
       "      <td>4.939340e+05</td>\n",
       "      <td>3.429825e+07</td>\n",
       "      <td>4.020000</td>\n",
       "    </tr>\n",
       "    <tr>\n",
       "      <th>50%</th>\n",
       "      <td>5.439615e+09</td>\n",
       "      <td>8.342180e+05</td>\n",
       "      <td>1.568084e+09</td>\n",
       "      <td>6.370000</td>\n",
       "    </tr>\n",
       "    <tr>\n",
       "      <th>75%</th>\n",
       "      <td>8.184452e+09</td>\n",
       "      <td>1.835821e+06</td>\n",
       "      <td>5.067115e+09</td>\n",
       "      <td>9.300000</td>\n",
       "    </tr>\n",
       "    <tr>\n",
       "      <th>max</th>\n",
       "      <td>9.846818e+09</td>\n",
       "      <td>2.308018e+06</td>\n",
       "      <td>9.922605e+09</td>\n",
       "      <td>12.110000</td>\n",
       "    </tr>\n",
       "  </tbody>\n",
       "</table>\n",
       "</div>"
      ],
      "text/plain": [
       "                BID           GDP         Close   Inflation\n",
       "count  1.870000e+02  1.870000e+02  1.870000e+02  187.000000\n",
       "mean   4.571109e+09  1.048567e+06  2.648335e+09    6.831925\n",
       "std    3.693440e+09  6.765439e+05  2.714684e+09    2.823134\n",
       "min    7.300000e+01  1.238700e+04  9.776000e+03    3.770000\n",
       "25%    8.435450e+04  4.939340e+05  3.429825e+07    4.020000\n",
       "50%    5.439615e+09  8.342180e+05  1.568084e+09    6.370000\n",
       "75%    8.184452e+09  1.835821e+06  5.067115e+09    9.300000\n",
       "max    9.846818e+09  2.308018e+06  9.922605e+09   12.110000"
      ]
     },
     "execution_count": 12,
     "metadata": {},
     "output_type": "execute_result"
    }
   ],
   "source": [
    "df.describe()"
   ]
  },
  {
   "cell_type": "code",
   "execution_count": 13,
   "id": "289bcff7",
   "metadata": {},
   "outputs": [],
   "source": [
    "from typing import Tuple\n",
    "from sklearn.base import BaseEstimator, TransformerMixin\n",
    "\n",
    "def find_boxplot_boundaries(\n",
    "    col: pd.Series, whisker_coeff: float = 1.5\n",
    ") -> Tuple[float, float]:\n",
    "   \n",
    "    \n",
    "    Q1 = col.quantile(0.25)\n",
    "    Q3 = col.quantile(0.75)\n",
    "    IQR = Q3 - Q1\n",
    "    lower = Q1 - whisker_coeff * IQR\n",
    "    upper = Q3 + whisker_coeff * IQR\n",
    "    return lower, upper\n",
    "\n",
    "class BoxplotOutlierClipper(BaseEstimator, TransformerMixin):\n",
    "    def __init__(self, whisker_coeff: float = 1.5):\n",
    "        self.whisker = whisker_coeff\n",
    "        self.lower = None\n",
    "        self.upper = None\n",
    "\n",
    "    def fit(self, X: pd.Series):\n",
    "        self.lower, self.upper = find_boxplot_boundaries(X, self.whisker)\n",
    "        return self\n",
    "\n",
    "    def transform(self, X):\n",
    "        return X.clip(self.lower, self.upper)"
   ]
  },
  {
   "cell_type": "code",
   "execution_count": 14,
   "id": "57f09f67",
   "metadata": {},
   "outputs": [
    {
     "data": {
      "image/png": "[encoded data removed]",
      "text/plain": [
       "<Figure size 1080x360 with 2 Axes>"
      ]
     },
     "metadata": {
      "needs_background": "light"
     },
     "output_type": "display_data"
    }
   ],
   "source": [
    "BID= BoxplotOutlierClipper().fit_transform(df[\"BID\"])\n",
    "fig, axes = plt.subplots(nrows=1, ncols=2, figsize=(15, 5))\n",
    "BID.hist(bins=50, ax=axes[0])\n",
    "BID.to_frame().boxplot(ax=axes[1], vert=False);"
   ]
  },
  {
   "cell_type": "code",
   "execution_count": 15,
   "id": "90f7ddbe",
   "metadata": {},
   "outputs": [
    {
     "name": "stdout",
     "output_type": "stream",
     "text": [
      "Requirement already satisfied: openpyxl in c:\\users\\admin\\uu\\lib\\site-packages (3.0.7)\n",
      "Requirement already satisfied: et-xmlfile in c:\\users\\admin\\uu\\lib\\site-packages (from openpyxl) (1.0.1)\n"
     ]
    }
   ],
   "source": [
    "!pip install openpyxl\n",
    "import openpyxl as ol\n"
   ]
  },
  {
   "cell_type": "code",
   "execution_count": 16,
   "id": "f34ad87a",
   "metadata": {},
   "outputs": [],
   "source": [
    "BID.to_excel('./BID.xlsx', sheet_name='Sheet1', index = False)"
   ]
  },
  {
   "cell_type": "code",
   "execution_count": 17,
   "id": "e8beebd8",
   "metadata": {},
   "outputs": [
    {
     "data": {
      "image/png": "[encoded data removed]",
      "text/plain": [
       "<Figure size 1080x360 with 2 Axes>"
      ]
     },
     "metadata": {
      "needs_background": "light"
     },
     "output_type": "display_data"
    }
   ],
   "source": [
    "GDP= BoxplotOutlierClipper().fit_transform(df[\"GDP\"])\n",
    "fig, axes = plt.subplots(nrows=1, ncols=2, figsize=(15, 5))\n",
    "GDP.hist(bins=50, ax=axes[0])\n",
    "GDP.to_frame().boxplot(ax=axes[1], vert=False);"
   ]
  },
  {
   "cell_type": "code",
   "execution_count": 18,
   "id": "a8cfb868",
   "metadata": {},
   "outputs": [],
   "source": [
    "GDP.to_excel('./GDP.xlsx', sheet_name='Sheet1', index = False)"
   ]
  },
  {
   "cell_type": "code",
   "execution_count": 19,
   "id": "2da405e9",
   "metadata": {},
   "outputs": [
    {
     "data": {
      "image/png": "[encoded data removed]",
      "text/plain": [
       "<Figure size 1080x360 with 2 Axes>"
      ]
     },
     "metadata": {
      "needs_background": "light"
     },
     "output_type": "display_data"
    }
   ],
   "source": [
    "Close= BoxplotOutlierClipper().fit_transform(df[\"Close\"])\n",
    "fig, axes = plt.subplots(nrows=1, ncols=2, figsize=(15, 5))\n",
    "Close.hist(bins=50, ax=axes[0])\n",
    "Close.to_frame().boxplot(ax=axes[1], vert=False);"
   ]
  },
  {
   "cell_type": "code",
   "execution_count": 20,
   "id": "ffdca9a4",
   "metadata": {},
   "outputs": [],
   "source": [
    "Close.to_excel('./Close.xlsx', sheet_name='Sheet1', index = False)"
   ]
  },
  {
   "cell_type": "code",
   "execution_count": 21,
   "id": "719e3546",
   "metadata": {},
   "outputs": [
    {
     "data": {
      "image/png": "[encoded data removed]",
      "text/plain": [
       "<Figure size 1080x360 with 2 Axes>"
      ]
     },
     "metadata": {
      "needs_background": "light"
     },
     "output_type": "display_data"
    }
   ],
   "source": [
    "Inflation= BoxplotOutlierClipper().fit_transform(df[\"Inflation\"])\n",
    "fig, axes = plt.subplots(nrows=1, ncols=2, figsize=(15, 5))\n",
    "Inflation.hist(bins=50, ax=axes[0])\n",
    "Inflation.to_frame().boxplot(ax=axes[1], vert=False);"
   ]
  },
  {
   "cell_type": "code",
   "execution_count": 22,
   "id": "b4454e79",
   "metadata": {},
   "outputs": [],
   "source": [
    "Inflation.to_excel('./Inflation.xlsx', sheet_name='Sheet1', index = False)"
   ]
  },
  {
   "cell_type": "code",
   "execution_count": null,
   "id": "ea86e26d",
   "metadata": {},
   "outputs": [],
   "source": []
  }
 ],
 "metadata": {
  "kernelspec": {
   "display_name": "Python 3",
   "language": "python",
   "name": "python3"
  },
  "language_info": {
   "codemirror_mode": {
    "name": "ipython",
    "version": 3
   },
   "file_extension": ".py",
   "mimetype": "text/x-python",
   "name": "python",
   "nbconvert_exporter": "python",
   "pygments_lexer": "ipython3",
   "version": "3.8.8"
  }
 },
 "nbformat": 4,
 "nbformat_minor": 5
}
